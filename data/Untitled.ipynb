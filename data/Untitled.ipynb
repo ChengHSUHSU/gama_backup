{
 "cells": [
  {
   "cell_type": "code",
   "execution_count": 1,
   "id": "eae89d52-0171-4ad8-829c-c5ada34c2771",
   "metadata": {},
   "outputs": [],
   "source": [
    "import pickle\n",
    "def read_pickle(file_name, base_path=\"./\"):\n",
    "    with open(f'{base_path}/{file_name}', 'rb') as handle:\n",
    "        try:\n",
    "            return pickle.load(handle)\n",
    "        except Exception as err:\n",
    "            print('fail to load pickle file.')\n",
    "            return None"
   ]
  },
  {
   "cell_type": "code",
   "execution_count": 2,
   "id": "f39bd5a1-b147-4a70-b0a8-badb79c9a12f",
   "metadata": {},
   "outputs": [],
   "source": [
    "import pandas as pd\n",
    "\n",
    "\n",
    "dat = read_pickle('dataset-show-user2item-20230310-checkpoints-test-dataset.pickle')\n"
   ]
  },
  {
   "cell_type": "code",
   "execution_count": 3,
   "id": "eac1092d-781c-4032-9626-bacfbceadf07",
   "metadata": {},
   "outputs": [
    {
     "data": {
      "text/html": [
       "<div>\n",
       "<style scoped>\n",
       "    .dataframe tbody tr th:only-of-type {\n",
       "        vertical-align: middle;\n",
       "    }\n",
       "\n",
       "    .dataframe tbody tr th {\n",
       "        vertical-align: top;\n",
       "    }\n",
       "\n",
       "    .dataframe thead th {\n",
       "        text-align: right;\n",
       "    }\n",
       "</style>\n",
       "<table border=\"1\" class=\"dataframe\">\n",
       "  <thead>\n",
       "    <tr style=\"text-align: right;\">\n",
       "      <th></th>\n",
       "      <th>userid</th>\n",
       "      <th>uuid</th>\n",
       "      <th>timestamp</th>\n",
       "      <th>date</th>\n",
       "      <th>hour</th>\n",
       "      <th>age</th>\n",
       "      <th>gender</th>\n",
       "      <th>title</th>\n",
       "      <th>final_score</th>\n",
       "      <th>1_last_day_total_view_count</th>\n",
       "      <th>...</th>\n",
       "      <th>5_last_day_total_click_count</th>\n",
       "      <th>5_last_day_interaction_count</th>\n",
       "      <th>user_category</th>\n",
       "      <th>user_title_embedding</th>\n",
       "      <th>is_adult</th>\n",
       "      <th>publish_time</th>\n",
       "      <th>cat0</th>\n",
       "      <th>content_ner</th>\n",
       "      <th>item_title_embedding</th>\n",
       "      <th>y</th>\n",
       "    </tr>\n",
       "  </thead>\n",
       "  <tbody>\n",
       "    <tr>\n",
       "      <th>0</th>\n",
       "      <td>1015025000917002403</td>\n",
       "      <td>38348653294796800</td>\n",
       "      <td>1678269417626</td>\n",
       "      <td>20230308</td>\n",
       "      <td>09</td>\n",
       "      <td>None</td>\n",
       "      <td>None</td>\n",
       "      <td>來互相傷害衝獎勵</td>\n",
       "      <td>0.0425531914893617</td>\n",
       "      <td>1</td>\n",
       "      <td>...</td>\n",
       "      <td>0</td>\n",
       "      <td>0</td>\n",
       "      <td>None</td>\n",
       "      <td>None</td>\n",
       "      <td>False</td>\n",
       "      <td>1668080631285</td>\n",
       "      <td>['誰說一類組都是書呆子']</td>\n",
       "      <td>{}</td>\n",
       "      <td>[-0.07111664861440659, -0.007332282606512308, ...</td>\n",
       "      <td>1</td>\n",
       "    </tr>\n",
       "  </tbody>\n",
       "</table>\n",
       "<p>1 rows × 25 columns</p>\n",
       "</div>"
      ],
      "text/plain": [
       "                userid               uuid      timestamp      date hour   age  \\\n",
       "0  1015025000917002403  38348653294796800  1678269417626  20230308   09  None   \n",
       "\n",
       "  gender     title         final_score 1_last_day_total_view_count  ...  \\\n",
       "0   None  來互相傷害衝獎勵  0.0425531914893617                           1  ...   \n",
       "\n",
       "  5_last_day_total_click_count 5_last_day_interaction_count user_category  \\\n",
       "0                            0                            0          None   \n",
       "\n",
       "  user_title_embedding is_adult   publish_time            cat0 content_ner  \\\n",
       "0                 None    False  1668080631285  ['誰說一類組都是書呆子']          {}   \n",
       "\n",
       "                                item_title_embedding  y  \n",
       "0  [-0.07111664861440659, -0.007332282606512308, ...  1  \n",
       "\n",
       "[1 rows x 25 columns]"
      ]
     },
     "execution_count": 3,
     "metadata": {},
     "output_type": "execute_result"
    }
   ],
   "source": [
    "dat.head(1)"
   ]
  },
  {
   "cell_type": "code",
   "execution_count": 4,
   "id": "3dde4e3d-60f6-4b3b-bb07-e49460514e98",
   "metadata": {},
   "outputs": [],
   "source": [
    "\n",
    "cat0_set = set()\n",
    "for cs in list(dat['cat0']):\n",
    "    for c in eval(cs):\n",
    "        cat0_set.add(c)\n",
    "        "
   ]
  },
  {
   "cell_type": "code",
   "execution_count": 5,
   "id": "d95cb91d-8559-45cd-99ad-df214bd76b5e",
   "metadata": {},
   "outputs": [
    {
     "data": {
      "text/plain": [
       "{'228連假做什麼!',\n",
       " 'AI機器人殺瘋啦！',\n",
       " 'Cos-Show大賞',\n",
       " '一些小日常小美好',\n",
       " '一點夢想的故事',\n",
       " '不可能這樣也能睡吧',\n",
       " '二次元才有的可愛',\n",
       " '你才是小廢物',\n",
       " '創作者奇幻世界',\n",
       " '原來是原子回憶秀',\n",
       " '合夥人召集令',\n",
       " '大台北拉麵爭霸戰',\n",
       " '好神SHOW市集限定',\n",
       " '我的同學不紅太可惜',\n",
       " '戴口罩最上相獎',\n",
       " '插畫家の寶哥二創秀',\n",
       " '最得意的手機哏圖收藏',\n",
       " '最懷念的童年卡通橋段',\n",
       " '有閑明星大亂鬥',\n",
       " '橘子嘉年華延續戰',\n",
       " '橘子嘉年華練習賽',\n",
       " '甚麼都有甚麼都不奇怪',\n",
       " '誰說一類組都是書呆子',\n",
       " '讓人氣到牙癢癢的綠茶',\n",
       " '跨年要幹嘛',\n",
       " '遊戲寶物NPC秀一波',\n",
       " '過年就是要打電動啊！',\n",
       " '過年要做的事'}"
      ]
     },
     "execution_count": 5,
     "metadata": {},
     "output_type": "execute_result"
    }
   ],
   "source": [
    "cat0_set"
   ]
  },
  {
   "cell_type": "code",
   "execution_count": null,
   "id": "c7f9943e-a09e-48d8-8f37-5958523b3cf7",
   "metadata": {},
   "outputs": [],
   "source": []
  },
  {
   "cell_type": "code",
   "execution_count": null,
   "id": "89da0d75-75fd-486d-a319-741c6bd0befc",
   "metadata": {},
   "outputs": [],
   "source": []
  },
  {
   "cell_type": "code",
   "execution_count": 6,
   "id": "9e51829c-ace2-47c3-a818-8d17c8d714d4",
   "metadata": {},
   "outputs": [
    {
     "data": {
      "text/plain": [
       "[None,\n",
       " '{\"click\": {\"cat2\": {\"獨家原創\": {\"cnt\": 1, \"pref\": 1.0}}, \"cat1\": {\"劇情\": {\"cnt\": 1, \"pref\": 1.0}}, \"cat0\": {\"漫畫星\": {\"cnt\": 1, \"pref\": 1.0}}}}',\n",
       " None,\n",
       " '{\"click\": {\"cat2\": {\"科幻\": {\"cnt\": 1, \"pref\": 0.2}, \"獨家原創\": {\"cnt\": 2, \"pref\": 0.4}, \"偶像\": {\"cnt\": 2, \"pref\": 0.4}}, \"cat1\": {\"冒險動作\": {\"cnt\": 1, \"pref\": 0.3333}, \"幽默搞笑\": {\"cnt\": 2, \"pref\": 0.6666}}, \"cat0\": {\"漫畫星\": {\"cnt\": 3, \"pref\": 1.0}}}}',\n",
       " '{\"click\": {\"cat2\": {\"科幻\": {\"cnt\": 1, \"pref\": 0.2}, \"獨家原創\": {\"cnt\": 2, \"pref\": 0.4}, \"偶像\": {\"cnt\": 2, \"pref\": 0.4}}, \"cat1\": {\"冒險動作\": {\"cnt\": 1, \"pref\": 0.3333}, \"幽默搞笑\": {\"cnt\": 2, \"pref\": 0.6666}}, \"cat0\": {\"漫畫星\": {\"cnt\": 3, \"pref\": 1.0}}}}',\n",
       " None,\n",
       " None,\n",
       " None,\n",
       " None,\n",
       " None]"
      ]
     },
     "execution_count": 6,
     "metadata": {},
     "output_type": "execute_result"
    }
   ],
   "source": [
    "list(dat['user_category'])[:10]"
   ]
  },
  {
   "cell_type": "code",
   "execution_count": 25,
   "id": "db76e4e4-0820-4d42-8780-897e051f9a0e",
   "metadata": {},
   "outputs": [
    {
     "data": {
      "text/plain": [
       "(107383, 1)"
      ]
     },
     "execution_count": 25,
     "metadata": {},
     "output_type": "execute_result"
    }
   ],
   "source": [
    "dat_.shape"
   ]
  },
  {
   "cell_type": "code",
   "execution_count": 27,
   "id": "3784d065-ce82-4053-9fda-1c03ca128a06",
   "metadata": {},
   "outputs": [
    {
     "data": {
      "text/plain": [
       "157712"
      ]
     },
     "execution_count": 27,
     "metadata": {},
     "output_type": "execute_result"
    }
   ],
   "source": [
    "265095 - 107383"
   ]
  },
  {
   "cell_type": "code",
   "execution_count": 8,
   "id": "38b55622-a818-4828-ac8d-a53eed67a2d5",
   "metadata": {},
   "outputs": [
    {
     "data": {
      "text/plain": [
       "14911"
      ]
     },
     "execution_count": 8,
     "metadata": {},
     "output_type": "execute_result"
    }
   ],
   "source": [
    "len(dat[dat['y']==1])"
   ]
  },
  {
   "cell_type": "code",
   "execution_count": 9,
   "id": "e22494a8-25fd-4e3a-9eb7-a57a66e3a5fc",
   "metadata": {},
   "outputs": [
    {
     "data": {
      "text/plain": [
       "250184"
      ]
     },
     "execution_count": 9,
     "metadata": {},
     "output_type": "execute_result"
    }
   ],
   "source": [
    "len(dat[dat['y']==0])"
   ]
  },
  {
   "cell_type": "code",
   "execution_count": 24,
   "id": "ce8711ca-79ae-4b88-8d10-4a952317f2e2",
   "metadata": {},
   "outputs": [],
   "source": [
    "dat_ = dat[['age']].dropna()\n",
    "dat_['age'] = dat_['age'].apply(lambda x: int(x))"
   ]
  },
  {
   "cell_type": "code",
   "execution_count": 22,
   "id": "89d67d46-2fd7-40fb-ae63-289092af27ad",
   "metadata": {},
   "outputs": [
    {
     "data": {
      "text/plain": [
       "Text(0.5, 0, 'age')"
      ]
     },
     "execution_count": 22,
     "metadata": {},
     "output_type": "execute_result"
    },
    {
     "data": {
      "image/png": "[encoded data removed]",
      "text/plain": [
       "<Figure size 640x480 with 1 Axes>"
      ]
     },
     "metadata": {},
     "output_type": "display_data"
    }
   ],
   "source": [
    "import matplotlib.pyplot as plt\n",
    "dat_.age.plot.hist(stacked=True, bins=40)\n",
    "plt.xlabel('age')"
   ]
  },
  {
   "cell_type": "code",
   "execution_count": 14,
   "id": "de4400c3-38e8-42bd-913d-e1c8a74b4cfc",
   "metadata": {},
   "outputs": [
    {
     "data": {
      "text/html": [
       "<div>\n",
       "<style scoped>\n",
       "    .dataframe tbody tr th:only-of-type {\n",
       "        vertical-align: middle;\n",
       "    }\n",
       "\n",
       "    .dataframe tbody tr th {\n",
       "        vertical-align: top;\n",
       "    }\n",
       "\n",
       "    .dataframe thead th {\n",
       "        text-align: right;\n",
       "    }\n",
       "</style>\n",
       "<table border=\"1\" class=\"dataframe\">\n",
       "  <thead>\n",
       "    <tr style=\"text-align: right;\">\n",
       "      <th></th>\n",
       "      <th>age</th>\n",
       "    </tr>\n",
       "  </thead>\n",
       "  <tbody>\n",
       "    <tr>\n",
       "      <th>1</th>\n",
       "      <td>39</td>\n",
       "    </tr>\n",
       "    <tr>\n",
       "      <th>8</th>\n",
       "      <td>39</td>\n",
       "    </tr>\n",
       "    <tr>\n",
       "      <th>18</th>\n",
       "      <td>29</td>\n",
       "    </tr>\n",
       "    <tr>\n",
       "      <th>21</th>\n",
       "      <td>24</td>\n",
       "    </tr>\n",
       "    <tr>\n",
       "      <th>22</th>\n",
       "      <td>31</td>\n",
       "    </tr>\n",
       "    <tr>\n",
       "      <th>...</th>\n",
       "      <td>...</td>\n",
       "    </tr>\n",
       "    <tr>\n",
       "      <th>265087</th>\n",
       "      <td>35</td>\n",
       "    </tr>\n",
       "    <tr>\n",
       "      <th>265088</th>\n",
       "      <td>39</td>\n",
       "    </tr>\n",
       "    <tr>\n",
       "      <th>265091</th>\n",
       "      <td>26</td>\n",
       "    </tr>\n",
       "    <tr>\n",
       "      <th>265092</th>\n",
       "      <td>31</td>\n",
       "    </tr>\n",
       "    <tr>\n",
       "      <th>265094</th>\n",
       "      <td>32</td>\n",
       "    </tr>\n",
       "  </tbody>\n",
       "</table>\n",
       "<p>107383 rows × 1 columns</p>\n",
       "</div>"
      ],
      "text/plain": [
       "       age\n",
       "1       39\n",
       "8       39\n",
       "18      29\n",
       "21      24\n",
       "22      31\n",
       "...     ..\n",
       "265087  35\n",
       "265088  39\n",
       "265091  26\n",
       "265092  31\n",
       "265094  32\n",
       "\n",
       "[107383 rows x 1 columns]"
      ]
     },
     "execution_count": 14,
     "metadata": {},
     "output_type": "execute_result"
    }
   ],
   "source": [
    "dat_"
   ]
  },
  {
   "cell_type": "code",
   "execution_count": 35,
   "id": "ac55f2cc-0a67-424f-b60c-c1d9eb67e6d6",
   "metadata": {},
   "outputs": [],
   "source": [
    "dat_ = dat[['cat0']]"
   ]
  },
  {
   "cell_type": "code",
   "execution_count": 32,
   "id": "23c108c4-58ea-4f85-a43d-305529d25e20",
   "metadata": {},
   "outputs": [
    {
     "data": {
      "text/html": [
       "<div>\n",
       "<style scoped>\n",
       "    .dataframe tbody tr th:only-of-type {\n",
       "        vertical-align: middle;\n",
       "    }\n",
       "\n",
       "    .dataframe tbody tr th {\n",
       "        vertical-align: top;\n",
       "    }\n",
       "\n",
       "    .dataframe thead th {\n",
       "        text-align: right;\n",
       "    }\n",
       "</style>\n",
       "<table border=\"1\" class=\"dataframe\">\n",
       "  <thead>\n",
       "    <tr style=\"text-align: right;\">\n",
       "      <th></th>\n",
       "      <th>gender</th>\n",
       "    </tr>\n",
       "  </thead>\n",
       "  <tbody>\n",
       "    <tr>\n",
       "      <th>count</th>\n",
       "      <td>265095</td>\n",
       "    </tr>\n",
       "    <tr>\n",
       "      <th>unique</th>\n",
       "      <td>4</td>\n",
       "    </tr>\n",
       "    <tr>\n",
       "      <th>top</th>\n",
       "      <td>unknown</td>\n",
       "    </tr>\n",
       "    <tr>\n",
       "      <th>freq</th>\n",
       "      <td>108496</td>\n",
       "    </tr>\n",
       "  </tbody>\n",
       "</table>\n",
       "</div>"
      ],
      "text/plain": [
       "         gender\n",
       "count    265095\n",
       "unique        4\n",
       "top     unknown\n",
       "freq     108496"
      ]
     },
     "execution_count": 32,
     "metadata": {},
     "output_type": "execute_result"
    }
   ],
   "source": [
    "dat_.describe()"
   ]
  },
  {
   "cell_type": "code",
   "execution_count": 40,
   "id": "424c0945-86d7-4d27-b279-f9468d14af7b",
   "metadata": {},
   "outputs": [],
   "source": [
    "gender2num = dict()\n",
    "for record in dat_.to_dict('records'):\n",
    "    cat0 = eval(record['cat0'])\n",
    "    #if len(cat0) == 0:\n",
    "    #    gender2num['unknown'] +=1\n",
    "    for c in cat0:\n",
    "        if c not in gender2num:\n",
    "\n",
    "            gender2num[c] = 0\n",
    "        gender2num[c]  +=1"
   ]
  },
  {
   "cell_type": "code",
   "execution_count": 41,
   "id": "2a40eb7b-2a76-4df0-acf5-3c4c559041bc",
   "metadata": {},
   "outputs": [
    {
     "data": {
      "text/plain": [
       "{'誰說一類組都是書呆子': 8313,\n",
       " '你才是小廢物': 12727,\n",
       " '原來是原子回憶秀': 8613,\n",
       " '有閑明星大亂鬥': 8041,\n",
       " '橘子嘉年華練習賽': 25367,\n",
       " '甚麼都有甚麼都不奇怪': 2922,\n",
       " '遊戲寶物NPC秀一波': 8453,\n",
       " '好神SHOW市集限定': 4399,\n",
       " '二次元才有的可愛': 2594,\n",
       " '228連假做什麼!': 7771,\n",
       " '橘子嘉年華延續戰': 5368,\n",
       " 'AI機器人殺瘋啦！': 1684,\n",
       " '合夥人召集令': 734,\n",
       " '最懷念的童年卡通橋段': 10860,\n",
       " '不可能這樣也能睡吧': 11783,\n",
       " 'Cos-Show大賞': 32364,\n",
       " '創作者奇幻世界': 2556,\n",
       " '過年要做的事': 18690,\n",
       " '跨年要幹嘛': 18276,\n",
       " '戴口罩最上相獎': 13641,\n",
       " '過年就是要打電動啊！': 3805,\n",
       " '我的同學不紅太可惜': 11269,\n",
       " '最得意的手機哏圖收藏': 11442,\n",
       " '插畫家の寶哥二創秀': 15264,\n",
       " '讓人氣到牙癢癢的綠茶': 7289,\n",
       " '大台北拉麵爭霸戰': 5107,\n",
       " '一些小日常小美好': 2861,\n",
       " '一點夢想的故事': 2902}"
      ]
     },
     "execution_count": 41,
     "metadata": {},
     "output_type": "execute_result"
    }
   ],
   "source": [
    "gender2num"
   ]
  },
  {
   "cell_type": "code",
   "execution_count": 42,
   "id": "4d5fe7a3-ca16-4b5d-a04c-1f11b5b63149",
   "metadata": {},
   "outputs": [],
   "source": [
    "dat['popularity_score'] = dat['final_score']"
   ]
  },
  {
   "cell_type": "code",
   "execution_count": 52,
   "id": "bf9f16dd-5f02-44fd-9722-0b11920fdb22",
   "metadata": {},
   "outputs": [
    {
     "data": {
      "text/plain": [
       "Text(0.5, 0, 'popularity_score')"
      ]
     },
     "execution_count": 52,
     "metadata": {},
     "output_type": "execute_result"
    },
    {
     "data": {
      "image/png": "[encoded data removed]",
      "text/plain": [
       "<Figure size 640x480 with 1 Axes>"
      ]
     },
     "metadata": {},
     "output_type": "display_data"
    }
   ],
   "source": [
    "import matplotlib.pyplot as plt\n",
    "dat_ = dat[['popularity_score']].dropna()\n",
    "dat_['popularity_score'] = dat_['popularity_score'].apply(lambda x: float(x))\n",
    "dat_.popularity_score.plot.hist(stacked=True, bins=40)\n",
    "plt.xlabel('popularity_score')"
   ]
  },
  {
   "cell_type": "code",
   "execution_count": 47,
   "id": "af9b6dae-059c-4698-8403-e703790e17e1",
   "metadata": {},
   "outputs": [
    {
     "data": {
      "text/plain": [
       "'0.0425531914893617'"
      ]
     },
     "execution_count": 47,
     "metadata": {},
     "output_type": "execute_result"
    }
   ],
   "source": [
    "list(dat_['popularity_score'])[0]"
   ]
  },
  {
   "cell_type": "code",
   "execution_count": null,
   "id": "4422ef5b-8f1c-45cf-85cc-06c4ec92e1c1",
   "metadata": {},
   "outputs": [],
   "source": []
  },
  {
   "cell_type": "code",
   "execution_count": 88,
   "id": "51b9715c-2a43-472e-b8e3-93aa7f5408cb",
   "metadata": {},
   "outputs": [
    {
     "data": {
      "text/html": [
       "<div>\n",
       "<style scoped>\n",
       "    .dataframe tbody tr th:only-of-type {\n",
       "        vertical-align: middle;\n",
       "    }\n",
       "\n",
       "    .dataframe tbody tr th {\n",
       "        vertical-align: top;\n",
       "    }\n",
       "\n",
       "    .dataframe thead th {\n",
       "        text-align: right;\n",
       "    }\n",
       "</style>\n",
       "<table border=\"1\" class=\"dataframe\">\n",
       "  <thead>\n",
       "    <tr style=\"text-align: right;\">\n",
       "      <th></th>\n",
       "      <th>5_last_day_total_view_count</th>\n",
       "      <th>5_last_day_total_click_count</th>\n",
       "    </tr>\n",
       "  </thead>\n",
       "  <tbody>\n",
       "    <tr>\n",
       "      <th>count</th>\n",
       "      <td>265095.000000</td>\n",
       "      <td>265095.000000</td>\n",
       "    </tr>\n",
       "    <tr>\n",
       "      <th>mean</th>\n",
       "      <td>598.975767</td>\n",
       "      <td>28.618005</td>\n",
       "    </tr>\n",
       "    <tr>\n",
       "      <th>std</th>\n",
       "      <td>2563.838121</td>\n",
       "      <td>257.240195</td>\n",
       "    </tr>\n",
       "    <tr>\n",
       "      <th>min</th>\n",
       "      <td>0.000000</td>\n",
       "      <td>0.000000</td>\n",
       "    </tr>\n",
       "    <tr>\n",
       "      <th>10%</th>\n",
       "      <td>0.000000</td>\n",
       "      <td>0.000000</td>\n",
       "    </tr>\n",
       "    <tr>\n",
       "      <th>25%</th>\n",
       "      <td>2.000000</td>\n",
       "      <td>0.000000</td>\n",
       "    </tr>\n",
       "    <tr>\n",
       "      <th>50%</th>\n",
       "      <td>17.000000</td>\n",
       "      <td>0.000000</td>\n",
       "    </tr>\n",
       "    <tr>\n",
       "      <th>75%</th>\n",
       "      <td>67.000000</td>\n",
       "      <td>0.000000</td>\n",
       "    </tr>\n",
       "    <tr>\n",
       "      <th>85%</th>\n",
       "      <td>144.000000</td>\n",
       "      <td>2.000000</td>\n",
       "    </tr>\n",
       "    <tr>\n",
       "      <th>90%</th>\n",
       "      <td>574.600000</td>\n",
       "      <td>6.000000</td>\n",
       "    </tr>\n",
       "    <tr>\n",
       "      <th>95%</th>\n",
       "      <td>3168.000000</td>\n",
       "      <td>33.000000</td>\n",
       "    </tr>\n",
       "    <tr>\n",
       "      <th>max</th>\n",
       "      <td>33514.000000</td>\n",
       "      <td>6684.000000</td>\n",
       "    </tr>\n",
       "  </tbody>\n",
       "</table>\n",
       "</div>"
      ],
      "text/plain": [
       "       5_last_day_total_view_count  5_last_day_total_click_count\n",
       "count                265095.000000                 265095.000000\n",
       "mean                    598.975767                     28.618005\n",
       "std                    2563.838121                    257.240195\n",
       "min                       0.000000                      0.000000\n",
       "10%                       0.000000                      0.000000\n",
       "25%                       2.000000                      0.000000\n",
       "50%                      17.000000                      0.000000\n",
       "75%                      67.000000                      0.000000\n",
       "85%                     144.000000                      2.000000\n",
       "90%                     574.600000                      6.000000\n",
       "95%                    3168.000000                     33.000000\n",
       "max                   33514.000000                   6684.000000"
      ]
     },
     "execution_count": 88,
     "metadata": {},
     "output_type": "execute_result"
    }
   ],
   "source": [
    "import matplotlib.pyplot as plt\n",
    "dat_ = dat[['5_last_day_total_view_count', '5_last_day_total_click_count']].fillna(0)\n",
    "dat_['5_last_day_total_view_count'] = dat_['5_last_day_total_view_count'].apply(lambda x: float(x))\n",
    "dat_['5_last_day_total_click_count'] = dat_['5_last_day_total_click_count'].apply(lambda x: float(x))\n",
    "dat_ = dat_[dat_['5_last_day_total_click_count']>= 0]\n",
    "#dat_['5_last_day_total_click_count'].plot.hist(stacked=True, bins=50)\n",
    "dat_.describe([0.1, 0.25, 0.5, 0.75,0.85,0.9, 0.95])\n",
    "#plt.xlabel('5_last_day_total_click_count')"
   ]
  },
  {
   "cell_type": "code",
   "execution_count": null,
   "id": "ca0fd610-112d-4c1e-ae2f-9cc03141bfb0",
   "metadata": {},
   "outputs": [],
   "source": []
  },
  {
   "cell_type": "code",
   "execution_count": 100,
   "id": "5b995028-c174-4407-b3db-2ae9ffb43ada",
   "metadata": {},
   "outputs": [],
   "source": [
    "def get_publish_time_to_now(df, event_time_col='timestamp', publish_time_col='publish_time', time_type=['min', 'hour', 'day']):\n",
    "    \"\"\"TODO: For computing time period, use `process_time_period` instead of this from now on\n",
    "    \"\"\"\n",
    "\n",
    "    time_type_to_sec = {'min': 60, 'hour': 3600, 'day': 3600*24}\n",
    "\n",
    "    for t in time_type:\n",
    "\n",
    "        df[f'{t}_to_current'] = df.apply(\n",
    "            lambda x: (x[event_time_col]-x[publish_time_col]) / (time_type_to_sec[t]*1000), axis=1)\n",
    "\n",
    "    return df"
   ]
  },
  {
   "cell_type": "code",
   "execution_count": 118,
   "id": "3c6b8d9a-c32f-46d7-b56c-f2c003afcecc",
   "metadata": {},
   "outputs": [],
   "source": [
    "\n",
    "dat_ = dat[dat['y']!=100][['timestamp', 'publish_time', 'y']].dropna()\n",
    "dat_['timestamp'] = dat_['timestamp'].apply(lambda x: float(x))\n",
    "dat_['publish_time'] = dat_['publish_time'].apply(lambda x: float(x))\n",
    "df = get_publish_time_to_now(dat_[['timestamp' ,'publish_time']])"
   ]
  },
  {
   "cell_type": "code",
   "execution_count": 119,
   "id": "8fb7c80a-c877-4ce5-b53b-01a10e7cb2c7",
   "metadata": {},
   "outputs": [
    {
     "data": {
      "text/html": [
       "<div>\n",
       "<style scoped>\n",
       "    .dataframe tbody tr th:only-of-type {\n",
       "        vertical-align: middle;\n",
       "    }\n",
       "\n",
       "    .dataframe tbody tr th {\n",
       "        vertical-align: top;\n",
       "    }\n",
       "\n",
       "    .dataframe thead th {\n",
       "        text-align: right;\n",
       "    }\n",
       "</style>\n",
       "<table border=\"1\" class=\"dataframe\">\n",
       "  <thead>\n",
       "    <tr style=\"text-align: right;\">\n",
       "      <th></th>\n",
       "      <th>timestamp</th>\n",
       "      <th>publish_time</th>\n",
       "      <th>min_to_current</th>\n",
       "      <th>hour_to_current</th>\n",
       "      <th>day_to_current</th>\n",
       "    </tr>\n",
       "  </thead>\n",
       "  <tbody>\n",
       "    <tr>\n",
       "      <th>0</th>\n",
       "      <td>1.678269e+12</td>\n",
       "      <td>1.668081e+12</td>\n",
       "      <td>169813.105683</td>\n",
       "      <td>2830.218428</td>\n",
       "      <td>117.925768</td>\n",
       "    </tr>\n",
       "    <tr>\n",
       "      <th>1</th>\n",
       "      <td>1.678268e+12</td>\n",
       "      <td>1.668081e+12</td>\n",
       "      <td>169797.128583</td>\n",
       "      <td>2829.952143</td>\n",
       "      <td>117.914673</td>\n",
       "    </tr>\n",
       "    <tr>\n",
       "      <th>2</th>\n",
       "      <td>1.676910e+12</td>\n",
       "      <td>1.668083e+12</td>\n",
       "      <td>147126.729100</td>\n",
       "      <td>2452.112152</td>\n",
       "      <td>102.171340</td>\n",
       "    </tr>\n",
       "    <tr>\n",
       "      <th>3</th>\n",
       "      <td>1.677994e+12</td>\n",
       "      <td>1.669185e+12</td>\n",
       "      <td>146816.855333</td>\n",
       "      <td>2446.947589</td>\n",
       "      <td>101.956150</td>\n",
       "    </tr>\n",
       "    <tr>\n",
       "      <th>4</th>\n",
       "      <td>1.677994e+12</td>\n",
       "      <td>1.669185e+12</td>\n",
       "      <td>146816.755350</td>\n",
       "      <td>2446.945923</td>\n",
       "      <td>101.956080</td>\n",
       "    </tr>\n",
       "    <tr>\n",
       "      <th>...</th>\n",
       "      <td>...</td>\n",
       "      <td>...</td>\n",
       "      <td>...</td>\n",
       "      <td>...</td>\n",
       "      <td>...</td>\n",
       "    </tr>\n",
       "    <tr>\n",
       "      <th>265090</th>\n",
       "      <td>1.678490e+12</td>\n",
       "      <td>1.677460e+12</td>\n",
       "      <td>17165.983917</td>\n",
       "      <td>286.099732</td>\n",
       "      <td>11.920822</td>\n",
       "    </tr>\n",
       "    <tr>\n",
       "      <th>265091</th>\n",
       "      <td>1.678443e+12</td>\n",
       "      <td>1.677503e+12</td>\n",
       "      <td>15666.599267</td>\n",
       "      <td>261.109988</td>\n",
       "      <td>10.879583</td>\n",
       "    </tr>\n",
       "    <tr>\n",
       "      <th>265092</th>\n",
       "      <td>1.678444e+12</td>\n",
       "      <td>1.677503e+12</td>\n",
       "      <td>15689.665933</td>\n",
       "      <td>261.494432</td>\n",
       "      <td>10.895601</td>\n",
       "    </tr>\n",
       "    <tr>\n",
       "      <th>265093</th>\n",
       "      <td>1.678445e+12</td>\n",
       "      <td>1.677503e+12</td>\n",
       "      <td>15701.435167</td>\n",
       "      <td>261.690586</td>\n",
       "      <td>10.903774</td>\n",
       "    </tr>\n",
       "    <tr>\n",
       "      <th>265094</th>\n",
       "      <td>1.678463e+12</td>\n",
       "      <td>1.678347e+12</td>\n",
       "      <td>1927.350300</td>\n",
       "      <td>32.122505</td>\n",
       "      <td>1.338438</td>\n",
       "    </tr>\n",
       "  </tbody>\n",
       "</table>\n",
       "<p>265095 rows × 5 columns</p>\n",
       "</div>"
      ],
      "text/plain": [
       "           timestamp  publish_time  min_to_current  hour_to_current  \\\n",
       "0       1.678269e+12  1.668081e+12   169813.105683      2830.218428   \n",
       "1       1.678268e+12  1.668081e+12   169797.128583      2829.952143   \n",
       "2       1.676910e+12  1.668083e+12   147126.729100      2452.112152   \n",
       "3       1.677994e+12  1.669185e+12   146816.855333      2446.947589   \n",
       "4       1.677994e+12  1.669185e+12   146816.755350      2446.945923   \n",
       "...              ...           ...             ...              ...   \n",
       "265090  1.678490e+12  1.677460e+12    17165.983917       286.099732   \n",
       "265091  1.678443e+12  1.677503e+12    15666.599267       261.109988   \n",
       "265092  1.678444e+12  1.677503e+12    15689.665933       261.494432   \n",
       "265093  1.678445e+12  1.677503e+12    15701.435167       261.690586   \n",
       "265094  1.678463e+12  1.678347e+12     1927.350300        32.122505   \n",
       "\n",
       "        day_to_current  \n",
       "0           117.925768  \n",
       "1           117.914673  \n",
       "2           102.171340  \n",
       "3           101.956150  \n",
       "4           101.956080  \n",
       "...                ...  \n",
       "265090       11.920822  \n",
       "265091       10.879583  \n",
       "265092       10.895601  \n",
       "265093       10.903774  \n",
       "265094        1.338438  \n",
       "\n",
       "[265095 rows x 5 columns]"
      ]
     },
     "execution_count": 119,
     "metadata": {},
     "output_type": "execute_result"
    }
   ],
   "source": [
    "df"
   ]
  },
  {
   "cell_type": "code",
   "execution_count": 120,
   "id": "6ced7f74-a3da-4c35-957a-509f8f70c40b",
   "metadata": {},
   "outputs": [
    {
     "data": {
      "text/plain": [
       "Text(0.5, 0, '[Y=1 or Y=1] event_time - published_time')"
      ]
     },
     "execution_count": 120,
     "metadata": {},
     "output_type": "execute_result"
    },
    {
     "data": {
      "image/png": "[encoded data removed]",
      "text/plain": [
       "<Figure size 640x480 with 1 Axes>"
      ]
     },
     "metadata": {},
     "output_type": "display_data"
    }
   ],
   "source": [
    "df\n",
    "df['day_to_current'].plot.hist(stacked=True, bins=120)\n",
    "plt.xlabel('[Y=1 or Y=0] event_time - published_time')"
   ]
  },
  {
   "cell_type": "code",
   "execution_count": 64,
   "id": "9ee94801-9313-4eda-9607-487a41ac43e9",
   "metadata": {},
   "outputs": [
    {
     "data": {
      "text/plain": [
       "Text(0.5, 0, '5_last_day_ctr')"
      ]
     },
     "execution_count": 64,
     "metadata": {},
     "output_type": "execute_result"
    },
    {
     "data": {
      "image/png": "[encoded data removed]",
      "text/plain": [
       "<Figure size 640x480 with 1 Axes>"
      ]
     },
     "metadata": {},
     "output_type": "display_data"
    }
   ],
   "source": [
    "import matplotlib.pyplot as plt\n",
    "dat_ = dat[['5_last_day_total_click_count','5_last_day_total_view_count']].dropna()\n",
    "dat_['5_last_day_total_click_count'] = dat_['5_last_day_total_click_count'].apply(lambda x: float(x))\n",
    "dat_['5_last_day_total_view_count'] = dat_['5_last_day_total_view_count'].apply(lambda x: float(x))\n",
    "dat_['5_last_day_ctr'] = dat_['5_last_day_total_click_count'] / dat_['5_last_day_total_view_count']\n",
    "dat_['5_last_day_ctr'] = dat_['5_last_day_ctr'].apply(lambda x: x if isinstance(x, float) and 0 <= x <=1 else 0)\n",
    "dat_['5_last_day_ctr'].plot.hist(stacked=True, bins=50)\n",
    "plt.xlabel('5_last_day_ctr')"
   ]
  },
  {
   "cell_type": "code",
   "execution_count": 59,
   "id": "13bd7612-90fb-4bf4-b62e-4b1ffd30e22b",
   "metadata": {},
   "outputs": [
    {
     "data": {
      "text/html": [
       "<div>\n",
       "<style scoped>\n",
       "    .dataframe tbody tr th:only-of-type {\n",
       "        vertical-align: middle;\n",
       "    }\n",
       "\n",
       "    .dataframe tbody tr th {\n",
       "        vertical-align: top;\n",
       "    }\n",
       "\n",
       "    .dataframe thead th {\n",
       "        text-align: right;\n",
       "    }\n",
       "</style>\n",
       "<table border=\"1\" class=\"dataframe\">\n",
       "  <thead>\n",
       "    <tr style=\"text-align: right;\">\n",
       "      <th></th>\n",
       "      <th>5_last_day_total_click_count</th>\n",
       "      <th>5_last_day_total_view_count</th>\n",
       "      <th>5_last_day_ctr</th>\n",
       "    </tr>\n",
       "  </thead>\n",
       "  <tbody>\n",
       "    <tr>\n",
       "      <th>0</th>\n",
       "      <td>0.0</td>\n",
       "      <td>7.0</td>\n",
       "      <td>0.000000</td>\n",
       "    </tr>\n",
       "    <tr>\n",
       "      <th>1</th>\n",
       "      <td>0.0</td>\n",
       "      <td>7.0</td>\n",
       "      <td>0.000000</td>\n",
       "    </tr>\n",
       "    <tr>\n",
       "      <th>2</th>\n",
       "      <td>3.0</td>\n",
       "      <td>458.0</td>\n",
       "      <td>0.006550</td>\n",
       "    </tr>\n",
       "    <tr>\n",
       "      <th>3</th>\n",
       "      <td>0.0</td>\n",
       "      <td>23.0</td>\n",
       "      <td>0.000000</td>\n",
       "    </tr>\n",
       "    <tr>\n",
       "      <th>4</th>\n",
       "      <td>0.0</td>\n",
       "      <td>23.0</td>\n",
       "      <td>0.000000</td>\n",
       "    </tr>\n",
       "    <tr>\n",
       "      <th>...</th>\n",
       "      <td>...</td>\n",
       "      <td>...</td>\n",
       "      <td>...</td>\n",
       "    </tr>\n",
       "    <tr>\n",
       "      <th>265087</th>\n",
       "      <td>2.0</td>\n",
       "      <td>15.0</td>\n",
       "      <td>0.133333</td>\n",
       "    </tr>\n",
       "    <tr>\n",
       "      <th>265088</th>\n",
       "      <td>6.0</td>\n",
       "      <td>1335.0</td>\n",
       "      <td>0.004494</td>\n",
       "    </tr>\n",
       "    <tr>\n",
       "      <th>265089</th>\n",
       "      <td>4.0</td>\n",
       "      <td>167.0</td>\n",
       "      <td>0.023952</td>\n",
       "    </tr>\n",
       "    <tr>\n",
       "      <th>265090</th>\n",
       "      <td>1.0</td>\n",
       "      <td>137.0</td>\n",
       "      <td>0.007299</td>\n",
       "    </tr>\n",
       "    <tr>\n",
       "      <th>265094</th>\n",
       "      <td>1.0</td>\n",
       "      <td>5.0</td>\n",
       "      <td>0.200000</td>\n",
       "    </tr>\n",
       "  </tbody>\n",
       "</table>\n",
       "<p>219217 rows × 3 columns</p>\n",
       "</div>"
      ],
      "text/plain": [
       "        5_last_day_total_click_count  5_last_day_total_view_count  \\\n",
       "0                                0.0                          7.0   \n",
       "1                                0.0                          7.0   \n",
       "2                                3.0                        458.0   \n",
       "3                                0.0                         23.0   \n",
       "4                                0.0                         23.0   \n",
       "...                              ...                          ...   \n",
       "265087                           2.0                         15.0   \n",
       "265088                           6.0                       1335.0   \n",
       "265089                           4.0                        167.0   \n",
       "265090                           1.0                        137.0   \n",
       "265094                           1.0                          5.0   \n",
       "\n",
       "        5_last_day_ctr  \n",
       "0             0.000000  \n",
       "1             0.000000  \n",
       "2             0.006550  \n",
       "3             0.000000  \n",
       "4             0.000000  \n",
       "...                ...  \n",
       "265087        0.133333  \n",
       "265088        0.004494  \n",
       "265089        0.023952  \n",
       "265090        0.007299  \n",
       "265094        0.200000  \n",
       "\n",
       "[219217 rows x 3 columns]"
      ]
     },
     "execution_count": 59,
     "metadata": {},
     "output_type": "execute_result"
    }
   ],
   "source": [
    "dat_"
   ]
  },
  {
   "cell_type": "code",
   "execution_count": 7,
   "id": "4e8021d7-8f34-4ae4-bf24-3b879c3644f2",
   "metadata": {},
   "outputs": [
    {
     "ename": "SyntaxError",
     "evalue": "can't use starred expression here (30387362.py, line 1)",
     "output_type": "error",
     "traceback": [
      "\u001b[0;36m  Cell \u001b[0;32mIn [7], line 1\u001b[0;36m\u001b[0m\n\u001b[0;31m    *'123,34'\u001b[0m\n\u001b[0m    ^\u001b[0m\n\u001b[0;31mSyntaxError\u001b[0m\u001b[0;31m:\u001b[0m can't use starred expression here\n"
     ]
    }
   ],
   "source": [
    "*'123,34'"
   ]
  },
  {
   "cell_type": "code",
   "execution_count": null,
   "id": "a42a9ee2-0eee-4fed-ab92-efabf2633c11",
   "metadata": {},
   "outputs": [],
   "source": []
  },
  {
   "cell_type": "code",
   "execution_count": null,
   "id": "8e5afc3d-e8be-4b34-9c20-ef35d3f15064",
   "metadata": {},
   "outputs": [],
   "source": [
    "5_last_day_total_click_count"
   ]
  }
 ],
 "metadata": {
  "kernelspec": {
   "display_name": "Python 3 (ipykernel)",
   "language": "python",
   "name": "python3"
  },
  "language_info": {
   "codemirror_mode": {
    "name": "ipython",
    "version": 3
   },
   "file_extension": ".py",
   "mimetype": "text/x-python",
   "name": "python",
   "nbconvert_exporter": "python",
   "pygments_lexer": "ipython3",
   "version": "3.8.9"
  }
 },
 "nbformat": 4,
 "nbformat_minor": 5
}
